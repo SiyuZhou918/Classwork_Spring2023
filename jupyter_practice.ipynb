{
 "cells": [
  {
   "cell_type": "code",
   "execution_count": 3,
   "id": "58f02514",
   "metadata": {},
   "outputs": [
    {
     "name": "stdout",
     "output_type": "stream",
     "text": [
      "4\n"
     ]
    }
   ],
   "source": [
    "x = 4\n",
    "print(x)"
   ]
  },
  {
   "cell_type": "code",
   "execution_count": 6,
   "id": "bf0387ad",
   "metadata": {},
   "outputs": [
    {
     "name": "stdout",
     "output_type": "stream",
     "text": [
      "4\n"
     ]
    }
   ],
   "source": [
    "x = 4\n",
    "print(x)"
   ]
  },
  {
   "cell_type": "code",
   "execution_count": 7,
   "id": "674bb4c7",
   "metadata": {},
   "outputs": [
    {
     "name": "stdout",
     "output_type": "stream",
     "text": [
      "4\n"
     ]
    }
   ],
   "source": [
    "x = 4\n",
    "print(x)"
   ]
  },
  {
   "cell_type": "code",
   "execution_count": 8,
   "id": "5447d473",
   "metadata": {},
   "outputs": [
    {
     "name": "stdout",
     "output_type": "stream",
     "text": [
      "6\n"
     ]
    }
   ],
   "source": [
    "y = x + 2\n",
    "print(y)"
   ]
  },
  {
   "cell_type": "code",
   "execution_count": 9,
   "id": "dd00e019",
   "metadata": {},
   "outputs": [],
   "source": [
    "def print_value(i):\n",
    "    print(i+2)"
   ]
  },
  {
   "cell_type": "code",
   "execution_count": 10,
   "id": "080a5c21",
   "metadata": {},
   "outputs": [
    {
     "name": "stdout",
     "output_type": "stream",
     "text": [
      "14\n"
     ]
    }
   ],
   "source": [
    "print_value(12)"
   ]
  },
  {
   "cell_type": "code",
   "execution_count": 40,
   "id": "13325c7a",
   "metadata": {},
   "outputs": [
    {
     "name": "stdout",
     "output_type": "stream",
     "text": [
      "3\n",
      "AnnAnn@domain.toplevel\n"
     ]
    }
   ],
   "source": [
    "email = \"AnnAnn@  domain.toplevel\"\n",
    "email_list = email.split(\" \")\n",
    "print(len(email_list))\n",
    "email_list = email.split(\" \")\n",
    "email = \"\".join(email_list)\n",
    "print(email)"
   ]
  },
  {
   "cell_type": "code",
   "execution_count": 56,
   "id": "22d24471",
   "metadata": {},
   "outputs": [
    {
     "name": "stdout",
     "output_type": "stream",
     "text": [
      "2\n",
      "['AnnAnn@', 'domain.toplevel']\n",
      "AnnAnn@domain.toplevel\n"
     ]
    }
   ],
   "source": [
    "email = \"AnnAnn@ domain.toplevel\"\n",
    "email_list = email.split(\" \")\n",
    "print(len(email_list))\n",
    "email_list = email.split(\" \")\n",
    "print(email_list)\n",
    "email = \"\".join(email_list)\n",
    "print(email)"
   ]
  },
  {
   "cell_type": "code",
   "execution_count": 57,
   "id": "c6ad761f",
   "metadata": {},
   "outputs": [
    {
     "name": "stdout",
     "output_type": "stream",
     "text": [
      "2\n",
      "['AnnAnn', '@domain.toplevel']\n",
      "AnnAnn@domain.toplevel\n"
     ]
    }
   ],
   "source": [
    "email = \"AnnAnn @domain.toplevel\"\n",
    "email_list = email.split(\" \")\n",
    "print(len(email_list))\n",
    "email_list = email.split(\" \")\n",
    "print(email_list)\n",
    "email = \"\".join(email_list)\n",
    "print(email)\n"
   ]
  },
  {
   "cell_type": "code",
   "execution_count": 86,
   "id": "d95b4a04",
   "metadata": {},
   "outputs": [
    {
     "name": "stdout",
     "output_type": "stream",
     "text": [
      "3\n",
      "['AnnAnn@', '', 'domain.toplevel']\n",
      "False\n",
      "AnnAnn@domain.toplevel\n"
     ]
    }
   ],
   "source": [
    "email = \"AnnAnn@  domain.toplevel\"\n",
    "email_list = email.split(\" \")\n",
    "print(len(email_list))\n",
    "email_list = email.split(\" \")\n",
    "print(email_list)\n",
    "for parts in email_list:\n",
    "    if parts == \"\":\n",
    "        print(\"False\")\n",
    "email = \"\".join(email_list)\n",
    "print(email)\n",
    "# for parts in email_list:\n",
    "#     if parts == \"\":\n",
    "#         print(\"False\")\n"
   ]
  },
  {
   "cell_type": "code",
   "execution_count": 64,
   "id": "045a1442",
   "metadata": {},
   "outputs": [
    {
     "name": "stdout",
     "output_type": "stream",
     "text": [
      "AnnAnn@domain.toplevel\n"
     ]
    }
   ],
   "source": [
    "def email_remove_space(email_input):\n",
    "    email_input = email_input.strip(\" \")\n",
    "    if email_input.find(\" \") < 0:\n",
    "        return email_input\n",
    "    else:\n",
    "        email_list = email_input.split(\" \")\n",
    "        if len(email_list) == 2 or len(email_list) == 3:\n",
    "            email = \"\".join(email_list)\n",
    "            return email\n",
    "        else:\n",
    "            return False\n",
    "        \n",
    "email_input = \"AnnAnn@  domain.toplevel\"\n",
    "print(email_remove_space(email_input))"
   ]
  },
  {
   "cell_type": "code",
   "execution_count": 93,
   "id": "503644b2",
   "metadata": {},
   "outputs": [
    {
     "name": "stdout",
     "output_type": "stream",
     "text": [
      "AnnAnn@domain.toplevel\n"
     ]
    }
   ],
   "source": [
    "def email_remove_space(email_input):\n",
    "    email_input = email_input.strip(\" \")\n",
    "    if email_input.find(\" \") < 0:\n",
    "        return email_input\n",
    "    else:\n",
    "        email_list = email_input.split(\" \")\n",
    "        for parts in email_list:\n",
    "            if parts == \"\":\n",
    "                print(\"False\")\n",
    "            else:\n",
    "                email_input = \"\".join(email_list)\n",
    "                return email_input\n",
    "email_input = \"AnnAnn  @ domain.toplevel\"\n",
    "print(email_remove_space(email_input))"
   ]
  },
  {
   "cell_type": "code",
   "execution_count": 119,
   "id": "42909ba4",
   "metadata": {},
   "outputs": [
    {
     "ename": "SyntaxError",
     "evalue": "invalid syntax (1232609157.py, line 21)",
     "output_type": "error",
     "traceback": [
      "\u001b[0;36m  Cell \u001b[0;32mIn[119], line 21\u001b[0;36m\u001b[0m\n\u001b[0;31m    if email_input != \"False\"\u001b[0m\n\u001b[0m                             ^\u001b[0m\n\u001b[0;31mSyntaxError\u001b[0m\u001b[0;31m:\u001b[0m invalid syntax\n"
     ]
    }
   ],
   "source": [
    "def email_remove_space(email_input):\n",
    "    email_input = email_input.strip(\" \")\n",
    "    if email_input.find(\" \") < 0:\n",
    "        return email_input\n",
    "    else:\n",
    "        email_list = email_input.split(\" \")\n",
    "        #print(email_list)\n",
    "        for parts in email_list:\n",
    "            #print(parts)\n",
    "            if parts == '':\n",
    "                return False\n",
    "        email_input = \"\".join(email_list)\n",
    "        return email_input\n",
    "email_input = \"AnnAnn  @domain.toplevel\"\n",
    "print(email_remove_space(email_input))\n",
    "\n",
    "# email_rem = email_remove_space(email_input)\n",
    "# new_list = email_rem.split(\"@\")\n",
    "# print(new_list)\n",
    "\n",
    "if email_input != \"False\"\n",
    "    print(\"p\")"
   ]
  },
  {
   "cell_type": "code",
   "execution_count": 97,
   "id": "d3c7e0a4",
   "metadata": {},
   "outputs": [
    {
     "name": "stdout",
     "output_type": "stream",
     "text": [
      "['AnnAnn@domain.toplevel']\n",
      "-1\n"
     ]
    }
   ],
   "source": [
    "email = \"AnnAnn@domain.toplevel\"\n",
    "# email = email.strip(email, \" \")\n",
    "print(email.split(\" \"))\n",
    "print(email.find(\" \"))"
   ]
  },
  {
   "cell_type": "code",
   "execution_count": 144,
   "id": "761cae19",
   "metadata": {},
   "outputs": [
    {
     "name": "stdout",
     "output_type": "stream",
     "text": [
      "[0, 1, 2, 3, 4, 5, 6, 7, 8, 9]\n",
      "['a', 'b', 'c', 'd', 'e', 'f', 'g', 'h', 'i', 'j', 'k', 'l', 'm', 'n', 'o', 'p', 'q', 'r', 's', 't', 'u', 'v', 'w', 'x', 'y', 'z']\n",
      "[0, 1, 2, 3, 4, 5, 6, 7, 8, 9, 'a', 'b', 'c', 'd', 'e', 'f', 'g', 'h', 'i', 'j', 'k', 'l', 'm', 'n', 'o', 'p', 'q', 'r', 's', 't', 'u', 'v', 'w', 'x', 'y', 'z', '_', '.', '-']\n"
     ]
    }
   ],
   "source": [
    "import string\n",
    "\n",
    "letters = string.ascii_lowercase\n",
    "\n",
    "my_list = [char for char in letters]\n",
    "my_num = [num for num in range(10)]\n",
    "my_symbol = ['_', '.', '-']\n",
    "\n",
    "list = my_num + my_list+my_symbol\n",
    "print(list)\n"
   ]
  },
  {
   "cell_type": "code",
   "execution_count": 197,
   "id": "ffb7a834",
   "metadata": {},
   "outputs": [
    {
     "name": "stdout",
     "output_type": "stream",
     "text": [
      "False\n"
     ]
    }
   ],
   "source": [
    "def check_prefix(email_no_space):\n",
    "    email_no_space_list = email_no_space.split(\"@\")\n",
    "    if len(email_no_space_list) >= 2:\n",
    "        return False\n",
    "    prefix, rest = email_no_space.split(\"@\")\n",
    "    prefix = prefix.lower()\n",
    "    letters = string.ascii_lowercase\n",
    "    my_list = [char for char in letters]\n",
    "    my_num = [num for num in range(10)]\n",
    "    my_symbol = ['_', '.', '-']\n",
    "\n",
    "    list = my_num + my_list + my_symbol\n",
    "    for i, element in enumerate(prefix):\n",
    "        if element not in list:\n",
    "            return False\n",
    "        if element in my_symbol:\n",
    "            if prefix[i+1] == prefix[i]:\n",
    "                return False\n",
    "    if prefix[0] in my_symbol or prefix[-1] in my_symbol:\n",
    "        return False\n",
    "    return True   \n",
    "email_no_space = \"AnnAnn@domain.toplevel\"\n",
    "print(check_prefix(email_no_space))"
   ]
  },
  {
   "cell_type": "code",
   "execution_count": 198,
   "id": "98b2a71a",
   "metadata": {},
   "outputs": [
    {
     "name": "stdout",
     "output_type": "stream",
     "text": [
      "domain--\n",
      "toplevel\n",
      "4\n",
      "False\n"
     ]
    }
   ],
   "source": [
    "def check_domain(email_no_space):\n",
    "    email_no_space_list = email_no_space.split(\"@\")\n",
    "    if len(email_no_space_list) >= 3:\n",
    "        print(\"1\")\n",
    "        return False\n",
    "    prefix, rest = email_no_space.split(\"@\")\n",
    "    rest_list = rest.split(\".\")\n",
    "    if len(rest_list) >= 3:\n",
    "        print(\"2\")\n",
    "        return False\n",
    "    domain, toplevel = rest.split(\".\")\n",
    "    print(domain)\n",
    "    print(toplevel)\n",
    "    domain = domain.lower()\n",
    "    \n",
    "    letters = string.ascii_lowercase\n",
    "    my_list = [char for char in letters]\n",
    "    my_num = [num for num in range(10)]\n",
    "    my_symbol = ['-']\n",
    "\n",
    "    list = my_num + my_list + my_symbol\n",
    "    for i, element in enumerate(domain):\n",
    "        if element not in list:\n",
    "            print(element)\n",
    "            print(\"3\")\n",
    "            return False\n",
    "        if element in my_symbol:\n",
    "            if domain[i+1] == domain[i]:\n",
    "                print(\"4\")\n",
    "                return False\n",
    "    if domain[0] in my_symbol or domain[-1] in my_symbol:\n",
    "        print(\"5\")\n",
    "        return False\n",
    "    return True   \n",
    "email_no_space = \"AnnAnn@domain--.toplevel\"\n",
    "print(check_domain(email_no_space))"
   ]
  },
  {
   "cell_type": "code",
   "execution_count": 200,
   "id": "344bfbba",
   "metadata": {},
   "outputs": [
    {
     "name": "stdout",
     "output_type": "stream",
     "text": [
      "domain--\n",
      "toplevel\n",
      "4\n",
      "False\n"
     ]
    }
   ],
   "source": [
    "def check_toplevel(email_no_space):\n",
    "    email_no_space_list = email_no_space.split(\"@\")\n",
    "    if len(email_no_space_list) >= 3:\n",
    "        print(\"1\")\n",
    "        return False\n",
    "    prefix, rest = email_no_space.split(\"@\")\n",
    "    rest_list = rest.split(\".\")\n",
    "    if len(rest_list) >= 3:\n",
    "        print(\"2\")\n",
    "        return False\n",
    "    domain, toplevel = rest.split(\".\")\n",
    "    if len(toplevel) <= 1:\n",
    "        return False\n",
    "    print(toplevel)\n",
    "    toplevel = toplevel.lower()\n",
    "    \n",
    "    letters = string.ascii_lowercase\n",
    "    my_list = [char for char in letters]\n",
    "\n",
    "    for element in my_list:\n",
    "        if element not in my_list:\n",
    "            print(element)\n",
    "            print(\"3\")\n",
    "            return False\n",
    "    return True   \n",
    "email_no_space = \"AnnAnn@domain--.toplevel\"\n",
    "print(check_domain(email_no_space))"
   ]
  },
  {
   "cell_type": "code",
   "execution_count": 205,
   "id": "ca8949f1",
   "metadata": {},
   "outputs": [
    {
     "name": "stdout",
     "output_type": "stream",
     "text": [
      "3\n",
      "False\n"
     ]
    }
   ],
   "source": [
    "def check_toplevel(email_no_space):\n",
    "    email_no_space_list = email_no_space.split(\"@\")\n",
    "    if len(email_no_space_list) >= 3:\n",
    "        print(\"1\")\n",
    "        return False\n",
    "    prefix, rest = email_no_space.split(\"@\")\n",
    "    rest_list = rest.split(\".\")\n",
    "    if len(rest_list) >= 3:\n",
    "        print(\"2\")\n",
    "        return False\n",
    "    domain, toplevel = rest.split(\".\")\n",
    "    if len(toplevel) <= 1:\n",
    "        print(\"3\")\n",
    "        return False\n",
    "    print(toplevel)\n",
    "    toplevel = toplevel.lower()\n",
    "    \n",
    "    letters = string.ascii_lowercase\n",
    "    my_list = [char for char in letters]\n",
    "\n",
    "    for element in my_list:\n",
    "        if element not in my_list:\n",
    "            print(element)\n",
    "            print(\"4\")\n",
    "            return False\n",
    "    return True   \n",
    "email_no_space = \"AnnAnn@domain--.t\"\n",
    "print(check_toplevel(email_no_space))"
   ]
  },
  {
   "cell_type": "markdown",
   "id": "982d30ee",
   "metadata": {},
   "source": [
    "# Markdown\n",
    "* sdfs\n"
   ]
  },
  {
   "cell_type": "code",
   "execution_count": 139,
   "id": "1f9b7ca5",
   "metadata": {},
   "outputs": [
    {
     "name": "stdout",
     "output_type": "stream",
     "text": [
      "range(0, 10)\n"
     ]
    }
   ],
   "source": [
    "\n",
    "my_string = \"HelloWorld\"\n",
    "my_list = [char for char in my_string]\n",
    "print(my_list)\n"
   ]
  },
  {
   "cell_type": "code",
   "execution_count": null,
   "id": "e38e1ff1",
   "metadata": {},
   "outputs": [],
   "source": [
    "numbers = range(10)"
   ]
  }
 ],
 "metadata": {
  "kernelspec": {
   "display_name": "Python 3 (ipykernel)",
   "language": "python",
   "name": "python3"
  },
  "language_info": {
   "codemirror_mode": {
    "name": "ipython",
    "version": 3
   },
   "file_extension": ".py",
   "mimetype": "text/x-python",
   "name": "python",
   "nbconvert_exporter": "python",
   "pygments_lexer": "ipython3",
   "version": "3.9.7"
  }
 },
 "nbformat": 4,
 "nbformat_minor": 5
}
